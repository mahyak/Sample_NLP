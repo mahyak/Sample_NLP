{
  "nbformat": 4,
  "nbformat_minor": 0,
  "metadata": {
    "colab": {
      "name": "assignment2.ipynb",
      "provenance": [],
      "collapsed_sections": [],
      "authorship_tag": "ABX9TyPoQ6QUUyPGAUrUWx6vjbQw",
      "include_colab_link": true
    },
    "kernelspec": {
      "name": "python3",
      "display_name": "Python 3"
    }
  },
  "cells": [
    {
      "cell_type": "markdown",
      "metadata": {
        "id": "view-in-github",
        "colab_type": "text"
      },
      "source": [
        "<a href=\"https://colab.research.google.com/github/mahyak/Sample_NLP/blob/master/assignment2.ipynb\" target=\"_parent\"><img src=\"https://colab.research.google.com/assets/colab-badge.svg\" alt=\"Open In Colab\"/></a>"
      ]
    },
    {
      "cell_type": "code",
      "metadata": {
        "id": "fFyc5VJ4Ntgo",
        "colab_type": "code",
        "colab": {
          "base_uri": "https://localhost:8080/",
          "height": 35
        },
        "outputId": "a0cc1f2f-4eae-42b3-da14-4fc1f195e53c"
      },
      "source": [
        "import nltk\n",
        "nltk.corpus.gutenberg.fileids()\n",
        "emma = nltk.corpus.gutenberg.words('austen-emma.txt')\n",
        "print(len(emma))"
      ],
      "execution_count": 8,
      "outputs": [
        {
          "output_type": "stream",
          "text": [
            "192427\n"
          ],
          "name": "stdout"
        }
      ]
    },
    {
      "cell_type": "code",
      "metadata": {
        "id": "2JlHLRWqPb1V",
        "colab_type": "code",
        "colab": {
          "base_uri": "https://localhost:8080/",
          "height": 35
        },
        "outputId": "1ed24313-079b-4768-e2ce-3fec4df21400"
      },
      "source": [
        "from nltk.corpus import gutenberg\n",
        "gutenberg.fileids()\n",
        "gutenberg.words('austen-emma.txt')"
      ],
      "execution_count": 11,
      "outputs": [
        {
          "output_type": "execute_result",
          "data": {
            "text/plain": [
              "['[', 'Emma', 'by', 'Jane', 'Austen', '1816', ']', ...]"
            ]
          },
          "metadata": {
            "tags": []
          },
          "execution_count": 11
        }
      ]
    },
    {
      "cell_type": "code",
      "metadata": {
        "id": "LKQmJjvKQCDy",
        "colab_type": "code",
        "colab": {
          "base_uri": "https://localhost:8080/",
          "height": 329
        },
        "outputId": "891527c8-9828-45bd-92e3-fa3944ddec2e"
      },
      "source": [
        "for fileid in gutenberg.fileids():\n",
        "  num_chars = len(gutenberg.raw(fileid))\n",
        "  num_words = len(gutenberg.words(fileid))\n",
        "  num_sents = len(gutenberg.sents(fileid))\n",
        "  num_vocab = len(set([w.lower() for w in gutenberg.words(fileid)]))\n",
        "  print(int(num_chars/num_words), int(num_words/num_sents), int(num_words/num_vocab),fileid)"
      ],
      "execution_count": 12,
      "outputs": [
        {
          "output_type": "stream",
          "text": [
            "4 24 26 austen-emma.txt\n",
            "4 26 16 austen-persuasion.txt\n",
            "4 28 22 austen-sense.txt\n",
            "4 33 79 bible-kjv.txt\n",
            "4 19 5 blake-poems.txt\n",
            "4 19 14 bryant-stories.txt\n",
            "4 17 12 burgess-busterbrown.txt\n",
            "4 20 12 carroll-alice.txt\n",
            "4 20 11 chesterton-ball.txt\n",
            "4 22 11 chesterton-brown.txt\n",
            "4 18 10 chesterton-thursday.txt\n",
            "4 20 24 edgeworth-parents.txt\n",
            "4 25 15 melville-moby_dick.txt\n",
            "4 52 10 milton-paradise.txt\n",
            "4 11 8 shakespeare-caesar.txt\n",
            "4 12 7 shakespeare-hamlet.txt\n",
            "4 12 6 shakespeare-macbeth.txt\n",
            "4 36 12 whitman-leaves.txt\n"
          ],
          "name": "stdout"
        }
      ]
    }
  ]
}