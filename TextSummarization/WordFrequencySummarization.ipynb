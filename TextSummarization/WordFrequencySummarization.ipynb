{
  "nbformat": 4,
  "nbformat_minor": 0,
  "metadata": {
    "colab": {
      "name": "WordFrequencySummarization.ipynb",
      "provenance": [],
      "authorship_tag": "ABX9TyO0DKlMO/GGZ2PUwmlslwUP",
      "include_colab_link": true
    },
    "kernelspec": {
      "name": "python3",
      "display_name": "Python 3"
    }
  },
  "cells": [
    {
      "cell_type": "markdown",
      "metadata": {
        "id": "view-in-github",
        "colab_type": "text"
      },
      "source": [
        "<a href=\"https://colab.research.google.com/github/mahyak/Sample_NLP/blob/master/WordFrequencySummarization.ipynb\" target=\"_parent\"><img src=\"https://colab.research.google.com/assets/colab-badge.svg\" alt=\"Open In Colab\"/></a>"
      ]
    },
    {
      "cell_type": "markdown",
      "metadata": {
        "id": "tw_fwRqp4l-A",
        "colab_type": "text"
      },
      "source": [
        "Word Frequency Summarization\n"
      ]
    },
    {
      "cell_type": "code",
      "metadata": {
        "id": "dqPUc0Gk4pON",
        "colab_type": "code",
        "outputId": "8968705a-b52f-42f4-fbd3-4fab73497151",
        "colab": {
          "base_uri": "https://localhost:8080/",
          "height": 85
        }
      },
      "source": [
        "import nltk\n",
        "nltk.download('stopwords')\n",
        "import nltk\n",
        "nltk.download('punkt')\n",
        "from nltk.corpus import stopwords\n",
        "from nltk.stem import PorterStemmer\n",
        "from nltk.tokenize import word_tokenize, sent_tokenize\n",
        "\n",
        "text_str = '''\n",
        "Those Who Are Resilient Stay In The Game Longer\n",
        "“On the mountains of truth you can never climb in vain: either you will reach a point higher up today, or you will be training your powers so that you will be able to climb higher tomorrow.” — Friedrich Nietzsche\n",
        "Challenges and setbacks are not meant to defeat you, but promote you. However, I realise after many years of defeats, it can crush your spirit and it is easier to give up than risk further setbacks and disappointments. Have you experienced this before? To be honest, I don’t have the answers. I can’t tell you what the right course of action is; only you will know. However, it’s important not to be discouraged by failure when pursuing a goal or a dream, since failure itself means different things to different people. To a person with a Fixed Mindset failure is a blow to their self-esteem, yet to a person with a Growth Mindset, it’s an opportunity to improve and find new ways to overcome their obstacles. Same failure, yet different responses. Who is right and who is wrong? Neither. Each person has a different mindset that decides their outcome. Those who are resilient stay in the game longer and draw on their inner means to succeed.\n",
        "I’ve coached mummy and mom clients who gave up after many years toiling away at their respective goal or dream. It was at that point their biggest breakthrough came. Perhaps all those years of perseverance finally paid off. It was the 19th Century’s minister Henry Ward Beecher who once said: “One’s best success comes after their greatest disappointments.” No one knows what the future holds, so your only guide is whether you can endure repeated defeats and disappointments and still pursue your dream. Consider the advice from the American academic and psychologist Angela Duckworth who writes in Grit: The Power of Passion and Perseverance: “Many of us, it seems, quit what we start far too early and far too often. Even more than the effort a gritty person puts in on a single day, what matters is that they wake up the next day, and the next, ready to get on that treadmill and keep going.”\n",
        "I know one thing for certain: don’t settle for less than what you’re capable of, but strive for something bigger. Some of you reading this might identify with this message because it resonates with you on a deeper level. For others, at the end of their tether the message might be nothing more than a trivial pep talk. What I wish to convey irrespective of where you are in your journey is: NEVER settle for less. If you settle for less, you will receive less than you deserve and convince yourself you are justified to receive it.\n",
        "“Two people on a precipice over Yosemite Valley” by Nathan Shipps on Unsplash\n",
        "Develop A Powerful Vision Of What You Want\n",
        "“Your problem is to bridge the gap which exists between where you are now and the goal you intend to reach.” — Earl Nightingale\n",
        "I recall a passage my father often used growing up in 1990s: “Don’t tell me your problems unless you’ve spent weeks trying to solve them yourself.” That advice has echoed in my mind for decades and became my motivator. Don’t leave it to other people or outside circumstances to motivate you because you will be let down every time. It must come from within you. Gnaw away at your problems until you solve them or find a solution. Problems are not stop signs, they are advising you that more work is required to overcome them. Most times, problems help you gain a skill or develop the resources to succeed later. So embrace your challenges and develop the grit to push past them instead of retreat in resignation. Where are you settling in your life right now? Could you be you playing for bigger stakes than you are? Are you willing to play bigger even if it means repeated failures and setbacks? You should ask yourself these questions to decide whether you’re willing to put yourself on the line or settle for less. And that’s fine if you’re content to receive less, as long as you’re not regretful later.\n",
        "If you have not achieved the success you deserve and are considering giving up, will you regret it in a few years or decades from now? Only you can answer that, but you should carve out time to discover your motivation for pursuing your goals. It’s a fact, if you don’t know what you want you’ll get what life hands you and it may not be in your best interest, affirms author Larry Weidel: “Winners know that if you don’t figure out what you want, you’ll get whatever life hands you.” The key is to develop a powerful vision of what you want and hold that image in your mind. Nurture it daily and give it life by taking purposeful action towards it.\n",
        "Vision + desire + dedication + patience + daily action leads to astonishing success. Are you willing to commit to this way of life or jump ship at the first sign of failure? I’m amused when I read questions written by millennials on Quora who ask how they can become rich and famous or the next Elon Musk. Success is a fickle and long game with highs and lows. Similarly, there are no assurances even if you’re an overnight sensation, to sustain it for long, particularly if you don’t have the mental and emotional means to endure it. This means you must rely on the one true constant in your favour: your personal development. The more you grow, the more you gain in terms of financial resources, status, success — simple. If you leave it to outside conditions to dictate your circumstances, you are rolling the dice on your future.\n",
        "So become intentional on what you want out of life. Commit to it. Nurture your dreams. Focus on your development and if you want to give up, know what’s involved before you take the plunge. Because I assure you, someone out there right now is working harder than you, reading more books, sleeping less and sacrificing all they have to realise their dreams and it may contest with yours. Don’t leave your dreams to chance.\n",
        "'''\n"
      ],
      "execution_count": 52,
      "outputs": [
        {
          "output_type": "stream",
          "text": [
            "[nltk_data] Downloading package stopwords to /root/nltk_data...\n",
            "[nltk_data]   Package stopwords is already up-to-date!\n",
            "[nltk_data] Downloading package punkt to /root/nltk_data...\n",
            "[nltk_data]   Package punkt is already up-to-date!\n"
          ],
          "name": "stdout"
        }
      ]
    },
    {
      "cell_type": "markdown",
      "metadata": {
        "id": "iUqiMAUr7vR3",
        "colab_type": "text"
      },
      "source": [
        "*   create a dictionary for text word frequency table from **TEXT**\n",
        "*   Only use the words that are not parts of **stopwords**\n",
        "\n",
        "Removing stop words and making frequency table\n",
        "\n",
        "Stemmer - an algorithm to bring words to its root word."
      ]
    },
    {
      "cell_type": "code",
      "metadata": {
        "id": "HaUWWGa17w_w",
        "colab_type": "code",
        "colab": {}
      },
      "source": [
        "def createFrequencyTable(text_string)->dict:\n",
        "  stopWords = set(stopwords.words('english'))\n",
        "  words = word_tokenize(text_string)\n",
        "  ps = PorterStemmer()\n",
        "\n",
        "  freq_table = dict()\n",
        "\n",
        "  for word in words:\n",
        "    word = ps.stem(word)\n",
        "\n",
        "    if word in stopWords:\n",
        "      continue\n",
        "\n",
        "    if word in freq_table:\n",
        "      freq_table[word] += 1\n",
        "    else:\n",
        "      freq_table[word] = 1\n",
        "\n",
        "  return freq_table\n"
      ],
      "execution_count": 0,
      "outputs": []
    },
    {
      "cell_type": "markdown",
      "metadata": {
        "id": "DvSi3SogO3xc",
        "colab_type": "text"
      },
      "source": [
        "Score the Sentences based on Term Frequency algorithm:\n",
        "\n",
        "\n",
        "*   Score the sentences by its non-stop word\n",
        "*   The most abvious issue is: long sentences will have an advantage over short sentences. so, divide every sentence score by the words in the sentences.\n",
        "\n",
        "*   For saving memory just consider 10 first char in every sentence\n",
        "\n",
        "\n",
        "\n"
      ]
    },
    {
      "cell_type": "code",
      "metadata": {
        "id": "ue1JyfLPP56c",
        "colab_type": "code",
        "colab": {}
      },
      "source": [
        "def scoreSentences(sentences, freqTable) -> dict:\n",
        "    sentenceValue = dict()\n",
        "\n",
        "    for sentence in sentences:\n",
        "        word_count_in_sentence = (len(word_tokenize(sentence)))\n",
        "        word_count_in_sentence_except_stop_words = 0\n",
        "\n",
        "        for wordValue in freqTable:\n",
        "            if wordValue in sentence.lower():\n",
        "                word_count_in_sentence_except_stop_words += 1\n",
        "\n",
        "                if sentence[:10] in sentenceValue:\n",
        "                    sentenceValue[sentence[:10]] += freqTable[wordValue]\n",
        "                    \n",
        "                else:\n",
        "                    sentenceValue[sentence[:10]] = freqTable[wordValue]\n",
        "\n",
        "        if sentence[:10] in sentenceValue:\n",
        "            sentenceValue[sentence[:10]] = sentenceValue[sentence[:10]] / word_count_in_sentence_except_stop_words\n",
        "\n",
        "    return sentenceValue\n"
      ],
      "execution_count": 0,
      "outputs": []
    },
    {
      "cell_type": "markdown",
      "metadata": {
        "id": "tovkoykYZkU7",
        "colab_type": "text"
      },
      "source": [
        "Find Threshold: average score"
      ]
    },
    {
      "cell_type": "code",
      "metadata": {
        "id": "2P3DHd8pZ93H",
        "colab_type": "code",
        "colab": {}
      },
      "source": [
        "def findThreshold(sentence_value)->int:\n",
        "  sum_values = 0\n",
        "\n",
        "  for entry in sentence_value:\n",
        "    sum_values += sentence_value[entry]\n",
        "\n",
        "  average = (sum_values/len(sentence_value))\n",
        "  \n",
        "  return average"
      ],
      "execution_count": 0,
      "outputs": []
    },
    {
      "cell_type": "markdown",
      "metadata": {
        "id": "oPFYiuRZak0-",
        "colab_type": "text"
      },
      "source": [
        "Generate Summary"
      ]
    },
    {
      "cell_type": "code",
      "metadata": {
        "id": "zKOGn82ParYX",
        "colab_type": "code",
        "colab": {}
      },
      "source": [
        "def generateSummary(sentences, sentence_value, threshold):\n",
        "  sentence_count = 0\n",
        "  summary = ''\n",
        "\n",
        "  for sentence in sentences:\n",
        "    if sentence[:10] in sentence_value and sentence_value[sentence[:10]] >= threshold:\n",
        "      summary += \" \"+sentence\n",
        "      sentence_count += 1\n",
        "\n",
        "  return summary"
      ],
      "execution_count": 0,
      "outputs": []
    },
    {
      "cell_type": "code",
      "metadata": {
        "id": "hsx-qDODdVUr",
        "colab_type": "code",
        "colab": {}
      },
      "source": [
        "def run_summarization(text):\n",
        "\n",
        "  frequnet_table = createFrequencyTable(text)\n",
        "  sentences = sent_tokenize(text)\n",
        "  sentence_scores = scoreSentences(sentences, frequnet_table)\n",
        "  threshold = findThreshold(sentence_scores)\n",
        "\n",
        "  summary = generateSummary(sentences, sentence_scores, 1.3 * threshold)\n",
        "\n",
        "\n",
        "  return summary\n",
        "\n",
        "\n"
      ],
      "execution_count": 0,
      "outputs": []
    },
    {
      "cell_type": "code",
      "metadata": {
        "id": "kfPlVwHNeIkw",
        "colab_type": "code",
        "colab": {
          "base_uri": "https://localhost:8080/",
          "height": 54
        },
        "outputId": "e338795d-cb2e-41b2-bbe5-3f813152e0ee"
      },
      "source": [
        "if __name__ == '__main__':\n",
        "  result = run_summarization(text_str)\n",
        "  print(result)"
      ],
      "execution_count": 80,
      "outputs": [
        {
          "output_type": "stream",
          "text": [
            " To be honest, I don’t have the answers. Same failure, yet different responses. Neither. Don’t leave it to other people or outside circumstances to motivate you because you will be let down every time. And that’s fine if you’re content to receive less, as long as you’re not regretful later. Commit to it. Nurture your dreams. Don’t leave your dreams to chance.\n"
          ],
          "name": "stdout"
        }
      ]
    }
  ]
}
